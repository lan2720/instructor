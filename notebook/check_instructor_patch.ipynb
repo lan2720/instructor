{
 "cells": [
  {
   "cell_type": "code",
   "execution_count": 3,
   "metadata": {},
   "outputs": [],
   "source": [
    "import instructor\n",
    "import openai\n",
    "from typing import List\n",
    "from pydantic import BaseModel, Field\n",
    "\n",
    "instructor.patch()"
   ]
  },
  {
   "cell_type": "markdown",
   "metadata": {},
   "source": [
    "### response_model的作用\n",
    "> Using the `response_model` parameter, you can specify a response model to use for `parsing the response` from OpenAI's API. If its present, the response will be parsed using the response model, otherwise it will be returned as is. "
   ]
  }
 ],
 "metadata": {
  "kernelspec": {
   "display_name": "instructor",
   "language": "python",
   "name": "python3"
  },
  "language_info": {
   "codemirror_mode": {
    "name": "ipython",
    "version": 3
   },
   "file_extension": ".py",
   "mimetype": "text/x-python",
   "name": "python",
   "nbconvert_exporter": "python",
   "pygments_lexer": "ipython3",
   "version": "3.11.5"
  }
 },
 "nbformat": 4,
 "nbformat_minor": 2
}
